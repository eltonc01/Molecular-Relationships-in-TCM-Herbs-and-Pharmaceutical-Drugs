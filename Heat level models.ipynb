{
 "cells": [
  {
   "cell_type": "code",
   "execution_count": null,
   "id": "48a634f8",
   "metadata": {},
   "outputs": [],
   "source": [
    "import pandas as pd\n",
    "import numpy as np\n",
    "from sklearn.preprocessing import StandardScaler\n",
    "from sklearn.model_selection import train_test_split\n",
    "from sklearn.metrics import f1_score, accuracy_score, roc_auc_score, precision_score, recall_score\n",
    "from sklearn.ensemble import RandomForestClassifier\n",
    "import joblib"
   ]
  },
  {
   "cell_type": "code",
   "execution_count": null,
   "id": "b70b7b40",
   "metadata": {},
   "outputs": [],
   "source": [
    "# obtain datasets\n",
    "\n",
    "df_herbs = pd.read_csv('properties updated herbs.csv')\n",
    "herb_index = {}\n",
    "for r in range(0, len(df_herbs)):\n",
    "    herb_index[df_herbs.loc[r, 'id']] = r"
   ]
  },
  {
   "cell_type": "code",
   "execution_count": null,
   "id": "36fe28fd",
   "metadata": {},
   "outputs": [],
   "source": [
    "mingredients = pd.read_csv('meridian ingredients updated.csv')\n",
    "descriptors = pd.read_csv('cancer ingredients mordred descriptors + morgan fp dropped columns.csv')\n",
    "drop = []\n",
    "for i in range(0, len(mingredients)):\n",
    "    if mingredients.loc[i, 'IDs'] not in descriptors['IDs'].to_list():\n",
    "        drop.append(i)\n",
    "        \n",
    "mingredients = mingredients.drop(drop).reset_index(drop=True)"
   ]
  },
  {
   "cell_type": "code",
   "execution_count": null,
   "id": "4a0ef13c",
   "metadata": {},
   "outputs": [],
   "source": [
    "herb_dict = {}\n",
    "for r in range(0, len(df_herbs)):\n",
    "    try:\n",
    "        items = df_herbs.loc[r, 'Ingredients'].split(', ')\n",
    "        name = df_herbs.loc[r, 'id']\n",
    "        herb_dict[name] = items\n",
    "    except:\n",
    "        continue"
   ]
  },
  {
   "cell_type": "code",
   "execution_count": null,
   "id": "195dae14",
   "metadata": {},
   "outputs": [],
   "source": [
    "index_dict = {}\n",
    "for r in range(0, len(descriptors)):\n",
    "    index_dict[descriptors.loc[r, 'IDs']] = r"
   ]
  },
  {
   "cell_type": "code",
   "execution_count": null,
   "id": "ae5b7a6e",
   "metadata": {},
   "outputs": [],
   "source": [
    "names = ['Warm','Pungent','Bitter','Mild','Hot','Sweet','Cold','Neutral','Punkery','Salty','Cool','Sour']"
   ]
  },
  {
   "cell_type": "code",
   "execution_count": null,
   "id": "17ca5c11",
   "metadata": {},
   "outputs": [],
   "source": [
    "# construct dataset\n",
    "\n",
    "table = []\n",
    "results = []\n",
    "for r in range(0, len(mingredients)):\n",
    "    if r % 500 == 0:\n",
    "        print(r)\n",
    "    compound = mingredients.loc[r, 'IDs']\n",
    "    index = index_dict[compound]\n",
    "    table.append(descriptors.loc[index].to_list()[1:])\n",
    "    herbs = []\n",
    "    for i in list(herb_dict):\n",
    "        if compound in herb_dict[i]:\n",
    "            herbs.append(i)\n",
    "    \n",
    "    meridians = []\n",
    "    for i in herbs:\n",
    "        m = df_herbs.loc[herb_index[i], 'Properties']\n",
    "        if pd.isnull(m) is False:\n",
    "            m = m.split('; ')\n",
    "            for i in m:\n",
    "                if i not in meridians:\n",
    "                    meridians.append(i)\n",
    "    temp = []\n",
    "    if 'Warm' in meridians:\n",
    "        temp.append(1)\n",
    "    else:\n",
    "        temp.append(0)\n",
    "    if 'Pungent' in meridians:\n",
    "        temp.append(1)\n",
    "    else:\n",
    "        temp.append(0)\n",
    "    if 'Bitter' in meridians:\n",
    "        temp.append(1)\n",
    "    else:\n",
    "        temp.append(0)\n",
    "    if 'Mild' in meridians:\n",
    "        temp.append(1)\n",
    "    else:\n",
    "        temp.append(0)\n",
    "    if 'Hot' in meridians:\n",
    "        temp.append(1)\n",
    "    else:\n",
    "        temp.append(0)\n",
    "    if 'Sweet' in meridians:\n",
    "        temp.append(1)\n",
    "    else:\n",
    "        temp.append(0)\n",
    "    if 'Cold' in meridians:\n",
    "        temp.append(1)\n",
    "    else:\n",
    "        temp.append(0)\n",
    "    if 'Neutral' in meridians:\n",
    "        temp.append(1)\n",
    "    else:\n",
    "        temp.append(0)\n",
    "    if 'Punkery' in meridians:\n",
    "        temp.append(1)\n",
    "    else:\n",
    "        temp.append(0)\n",
    "    if 'Salty' in meridians:\n",
    "        temp.append(1)\n",
    "    else:\n",
    "        temp.append(0)\n",
    "    if 'Cool' in meridians:\n",
    "        temp.append(1)\n",
    "    else:\n",
    "        temp.append(0)\n",
    "    if 'Sour' in meridians:\n",
    "        temp.append(1)\n",
    "    else:\n",
    "        temp.append(0)\n",
    "        \n",
    "    results.append(temp)\n",
    "    \n",
    "file = np.array(table)\n",
    "file = pd.DataFrame(file, columns=descriptors.columns.to_list()[1:])"
   ]
  },
  {
   "cell_type": "code",
   "execution_count": null,
   "id": "7cac3732",
   "metadata": {},
   "outputs": [],
   "source": [
    "# train models\n",
    "\n",
    "models = {}\n",
    "accuracies = []\n",
    "rocs = []\n",
    "f1s = []\n",
    "scalers = {}\n",
    "test_sets = []\n",
    "test_results = []\n",
    "x = file\n",
    "\n",
    "for r in range(0, 12):\n",
    "    print(f'iteration: {r + 1}')\n",
    "    y = [x[r] for x in results]\n",
    "    x_train, x_test, y_train, y_test = train_test_split(x, y)\n",
    "    pre_save = x_test\n",
    "    scaler = StandardScaler()\n",
    "    x_train = scaler.fit_transform(x_train)\n",
    "    x_test = scaler.transform(x_test)\n",
    "    for r1 in range(0, 10):\n",
    "        print(f'sub iteration: {r1 + 1}')\n",
    "        clf = RandomForestClassifier()\n",
    "        clf.fit(x_train, y_train)\n",
    "        predictions = clf.predict(x_test)\n",
    "        if r1 == 0 or f1_score(y_test, predictions) > best_score:\n",
    "            best_score = f1_score(y_test, predictions)\n",
    "            best_accuracy = accuracy_score(y_test, predictions)\n",
    "            # best_roc = roc_auc_score(y_test, predictions)\n",
    "            best_model = clf\n",
    "            \n",
    "    models[f'model{names[r]}'] = best_model\n",
    "    scalers[f'scaler{names[r]}'] = scaler\n",
    "    rocs.append(best_roc)\n",
    "    accuracies.append(best_accuracy)\n",
    "    f1s.append(best_score)\n",
    "    test_sets.append(pre_save)\n",
    "    test_results.append(y_test)"
   ]
  },
  {
   "cell_type": "code",
   "execution_count": null,
   "id": "dc43ed52",
   "metadata": {},
   "outputs": [],
   "source": [
    "# save models, scalers, and test sets\n",
    "\n",
    "for i in range(0, len(test_sets)):\n",
    "    test_sets[i].insert(0, 'Results', test_results[i])"
   ]
  },
  {
   "cell_type": "code",
   "execution_count": null,
   "id": "6759f445",
   "metadata": {},
   "outputs": [],
   "source": [
    "for i in [0, 4, 6, 10]:\n",
    "    test_sets[i].to_csv(f'heat models/test sets/test set {names[i]}.csv', index=False)"
   ]
  },
  {
   "cell_type": "code",
   "execution_count": null,
   "id": "7a58fe4b",
   "metadata": {},
   "outputs": [],
   "source": [
    "for i in [list(scalers)[x] for x in [0, 4, 6, 10]]:\n",
    "    joblib.dump(scalers[i], f'heat models/scalers/{i}.save')"
   ]
  },
  {
   "cell_type": "code",
   "execution_count": null,
   "id": "e1864e4f",
   "metadata": {},
   "outputs": [],
   "source": [
    "for i in [list(models)[x] for x in [0, 4, 6, 10]]:\n",
    "    joblib.dump(models[i], f'heat models/{i}.save')"
   ]
  }
 ],
 "metadata": {
  "kernelspec": {
   "display_name": "Python 3 (ipykernel)",
   "language": "python",
   "name": "python3"
  },
  "language_info": {
   "codemirror_mode": {
    "name": "ipython",
    "version": 3
   },
   "file_extension": ".py",
   "mimetype": "text/x-python",
   "name": "python",
   "nbconvert_exporter": "python",
   "pygments_lexer": "ipython3",
   "version": "3.8.10"
  }
 },
 "nbformat": 4,
 "nbformat_minor": 5
}
